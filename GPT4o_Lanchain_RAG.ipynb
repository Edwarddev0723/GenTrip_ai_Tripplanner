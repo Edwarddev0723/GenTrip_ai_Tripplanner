{
 "cells": [
  {
   "cell_type": "markdown",
   "metadata": {},
   "source": [
    "## Package"
   ]
  },
  {
   "cell_type": "code",
   "execution_count": 4,
   "metadata": {},
   "outputs": [
    {
     "name": "stdout",
     "output_type": "stream",
     "text": [
      "Collecting langchain-chroma\n",
      "  Downloading langchain_chroma-0.1.1-py3-none-any.whl.metadata (1.3 kB)\n",
      "Collecting chromadb<0.6.0,>=0.4.0 (from langchain-chroma)\n",
      "  Downloading chromadb-0.5.0-py3-none-any.whl.metadata (7.3 kB)\n",
      "Requirement already satisfied: fastapi<1,>=0.95.2 in c:\\users\\asus\\appdata\\roaming\\python\\python311\\site-packages (from langchain-chroma) (0.111.0)\n",
      "Requirement already satisfied: langchain-core<0.3,>=0.1.40 in c:\\users\\asus\\miniconda3\\lib\\site-packages (from langchain-chroma) (0.1.52)\n",
      "Requirement already satisfied: numpy<2,>=1 in c:\\users\\asus\\miniconda3\\lib\\site-packages (from langchain-chroma) (1.24.3)\n",
      "Collecting build>=1.0.3 (from chromadb<0.6.0,>=0.4.0->langchain-chroma)\n",
      "  Downloading build-1.2.1-py3-none-any.whl.metadata (4.3 kB)\n",
      "Requirement already satisfied: requests>=2.28 in c:\\users\\asus\\miniconda3\\lib\\site-packages (from chromadb<0.6.0,>=0.4.0->langchain-chroma) (2.31.0)\n",
      "Requirement already satisfied: pydantic>=1.9 in c:\\users\\asus\\appdata\\roaming\\python\\python311\\site-packages (from chromadb<0.6.0,>=0.4.0->langchain-chroma) (2.7.1)\n",
      "Collecting chroma-hnswlib==0.7.3 (from chromadb<0.6.0,>=0.4.0->langchain-chroma)\n",
      "  Downloading chroma_hnswlib-0.7.3-cp311-cp311-win_amd64.whl.metadata (262 bytes)\n",
      "Requirement already satisfied: uvicorn>=0.18.3 in c:\\users\\asus\\appdata\\roaming\\python\\python311\\site-packages (from uvicorn[standard]>=0.18.3->chromadb<0.6.0,>=0.4.0->langchain-chroma) (0.29.0)\n",
      "Collecting posthog>=2.4.0 (from chromadb<0.6.0,>=0.4.0->langchain-chroma)\n",
      "  Downloading posthog-3.5.0-py2.py3-none-any.whl.metadata (2.0 kB)\n",
      "Requirement already satisfied: typing-extensions>=4.5.0 in c:\\users\\asus\\miniconda3\\lib\\site-packages (from chromadb<0.6.0,>=0.4.0->langchain-chroma) (4.10.0)\n",
      "Requirement already satisfied: onnxruntime>=1.14.1 in c:\\users\\asus\\appdata\\roaming\\python\\python311\\site-packages (from chromadb<0.6.0,>=0.4.0->langchain-chroma) (1.17.3)\n",
      "Collecting opentelemetry-api>=1.2.0 (from chromadb<0.6.0,>=0.4.0->langchain-chroma)\n",
      "  Downloading opentelemetry_api-1.24.0-py3-none-any.whl.metadata (1.3 kB)\n",
      "Collecting opentelemetry-exporter-otlp-proto-grpc>=1.2.0 (from chromadb<0.6.0,>=0.4.0->langchain-chroma)\n",
      "  Downloading opentelemetry_exporter_otlp_proto_grpc-1.24.0-py3-none-any.whl.metadata (2.2 kB)\n",
      "Collecting opentelemetry-instrumentation-fastapi>=0.41b0 (from chromadb<0.6.0,>=0.4.0->langchain-chroma)\n",
      "  Downloading opentelemetry_instrumentation_fastapi-0.45b0-py3-none-any.whl.metadata (2.0 kB)\n",
      "Collecting opentelemetry-sdk>=1.2.0 (from chromadb<0.6.0,>=0.4.0->langchain-chroma)\n",
      "  Downloading opentelemetry_sdk-1.24.0-py3-none-any.whl.metadata (1.4 kB)\n",
      "Requirement already satisfied: tokenizers>=0.13.2 in c:\\users\\asus\\miniconda3\\lib\\site-packages (from chromadb<0.6.0,>=0.4.0->langchain-chroma) (0.19.1)\n",
      "Collecting pypika>=0.48.9 (from chromadb<0.6.0,>=0.4.0->langchain-chroma)\n",
      "  Downloading PyPika-0.48.9.tar.gz (67 kB)\n",
      "     ---------------------------------------- 0.0/67.3 kB ? eta -:--:--\n",
      "     ------ --------------------------------- 10.2/67.3 kB ? eta -:--:--\n",
      "     ----------------- -------------------- 30.7/67.3 kB 640.0 kB/s eta 0:00:01\n",
      "     ---------------------------------- --- 61.4/67.3 kB 465.5 kB/s eta 0:00:01\n",
      "     -------------------------------------- 67.3/67.3 kB 456.2 kB/s eta 0:00:00\n",
      "  Installing build dependencies: started\n",
      "  Installing build dependencies: finished with status 'done'\n",
      "  Getting requirements to build wheel: started\n",
      "  Getting requirements to build wheel: finished with status 'done'\n",
      "  Preparing metadata (pyproject.toml): started\n",
      "  Preparing metadata (pyproject.toml): finished with status 'done'\n",
      "Requirement already satisfied: tqdm>=4.65.0 in c:\\users\\asus\\miniconda3\\lib\\site-packages (from chromadb<0.6.0,>=0.4.0->langchain-chroma) (4.65.0)\n",
      "Requirement already satisfied: overrides>=7.3.1 in c:\\users\\asus\\miniconda3\\lib\\site-packages (from chromadb<0.6.0,>=0.4.0->langchain-chroma) (7.4.0)\n",
      "Requirement already satisfied: importlib-resources in c:\\users\\asus\\miniconda3\\lib\\site-packages (from chromadb<0.6.0,>=0.4.0->langchain-chroma) (6.4.0)\n",
      "Requirement already satisfied: grpcio>=1.58.0 in c:\\users\\asus\\miniconda3\\lib\\site-packages (from chromadb<0.6.0,>=0.4.0->langchain-chroma) (1.64.0)\n",
      "Collecting bcrypt>=4.0.1 (from chromadb<0.6.0,>=0.4.0->langchain-chroma)\n",
      "  Downloading bcrypt-4.1.3-cp39-abi3-win_amd64.whl.metadata (9.8 kB)\n",
      "Requirement already satisfied: typer>=0.9.0 in c:\\users\\asus\\appdata\\roaming\\python\\python311\\site-packages (from chromadb<0.6.0,>=0.4.0->langchain-chroma) (0.12.3)\n",
      "Collecting kubernetes>=28.1.0 (from chromadb<0.6.0,>=0.4.0->langchain-chroma)\n",
      "  Downloading kubernetes-29.0.0-py2.py3-none-any.whl.metadata (1.5 kB)\n",
      "Collecting tenacity>=8.2.3 (from chromadb<0.6.0,>=0.4.0->langchain-chroma)\n",
      "  Downloading tenacity-8.3.0-py3-none-any.whl.metadata (1.2 kB)\n",
      "Requirement already satisfied: PyYAML>=6.0.0 in c:\\users\\asus\\miniconda3\\lib\\site-packages (from chromadb<0.6.0,>=0.4.0->langchain-chroma) (6.0.1)\n",
      "Collecting mmh3>=4.0.1 (from chromadb<0.6.0,>=0.4.0->langchain-chroma)\n",
      "  Downloading mmh3-4.1.0-cp311-cp311-win_amd64.whl.metadata (13 kB)\n",
      "Requirement already satisfied: orjson>=3.9.12 in c:\\users\\asus\\miniconda3\\lib\\site-packages (from chromadb<0.6.0,>=0.4.0->langchain-chroma) (3.10.0)\n",
      "Requirement already satisfied: starlette<0.38.0,>=0.37.2 in c:\\users\\asus\\appdata\\roaming\\python\\python311\\site-packages (from fastapi<1,>=0.95.2->langchain-chroma) (0.37.2)\n",
      "Requirement already satisfied: fastapi-cli>=0.0.2 in c:\\users\\asus\\appdata\\roaming\\python\\python311\\site-packages (from fastapi<1,>=0.95.2->langchain-chroma) (0.0.3)\n",
      "Requirement already satisfied: httpx>=0.23.0 in c:\\users\\asus\\appdata\\roaming\\python\\python311\\site-packages (from fastapi<1,>=0.95.2->langchain-chroma) (0.27.0)\n",
      "Requirement already satisfied: jinja2>=2.11.2 in c:\\users\\asus\\miniconda3\\lib\\site-packages (from fastapi<1,>=0.95.2->langchain-chroma) (3.1.3)\n",
      "Requirement already satisfied: python-multipart>=0.0.7 in c:\\users\\asus\\miniconda3\\lib\\site-packages (from fastapi<1,>=0.95.2->langchain-chroma) (0.0.9)\n",
      "Requirement already satisfied: ujson!=4.0.2,!=4.1.0,!=4.2.0,!=4.3.0,!=5.0.0,!=5.1.0,>=4.0.1 in c:\\users\\asus\\miniconda3\\lib\\site-packages (from fastapi<1,>=0.95.2->langchain-chroma) (5.10.0)\n",
      "Requirement already satisfied: email_validator>=2.0.0 in c:\\users\\asus\\appdata\\roaming\\python\\python311\\site-packages (from fastapi<1,>=0.95.2->langchain-chroma) (2.1.1)\n",
      "Requirement already satisfied: jsonpatch<2.0,>=1.33 in c:\\users\\asus\\miniconda3\\lib\\site-packages (from langchain-core<0.3,>=0.1.40->langchain-chroma) (1.33)\n",
      "Requirement already satisfied: langsmith<0.2.0,>=0.1.0 in c:\\users\\asus\\miniconda3\\lib\\site-packages (from langchain-core<0.3,>=0.1.40->langchain-chroma) (0.1.63)\n",
      "Requirement already satisfied: packaging<24.0,>=23.2 in c:\\users\\asus\\miniconda3\\lib\\site-packages (from langchain-core<0.3,>=0.1.40->langchain-chroma) (23.2)\n",
      "Collecting pyproject_hooks (from build>=1.0.3->chromadb<0.6.0,>=0.4.0->langchain-chroma)\n",
      "  Downloading pyproject_hooks-1.1.0-py3-none-any.whl.metadata (1.3 kB)\n",
      "Requirement already satisfied: colorama in c:\\users\\asus\\miniconda3\\lib\\site-packages (from build>=1.0.3->chromadb<0.6.0,>=0.4.0->langchain-chroma) (0.4.6)\n",
      "Requirement already satisfied: dnspython>=2.0.0 in c:\\users\\asus\\appdata\\roaming\\python\\python311\\site-packages (from email_validator>=2.0.0->fastapi<1,>=0.95.2->langchain-chroma) (2.6.1)\n",
      "Requirement already satisfied: idna>=2.0.0 in c:\\users\\asus\\miniconda3\\lib\\site-packages (from email_validator>=2.0.0->fastapi<1,>=0.95.2->langchain-chroma) (3.4)\n",
      "Requirement already satisfied: anyio in c:\\users\\asus\\miniconda3\\lib\\site-packages (from httpx>=0.23.0->fastapi<1,>=0.95.2->langchain-chroma) (4.2.0)\n",
      "Requirement already satisfied: certifi in c:\\users\\asus\\miniconda3\\lib\\site-packages (from httpx>=0.23.0->fastapi<1,>=0.95.2->langchain-chroma) (2024.2.2)\n",
      "Requirement already satisfied: httpcore==1.* in c:\\users\\asus\\appdata\\roaming\\python\\python311\\site-packages (from httpx>=0.23.0->fastapi<1,>=0.95.2->langchain-chroma) (1.0.5)\n",
      "Requirement already satisfied: sniffio in c:\\users\\asus\\miniconda3\\lib\\site-packages (from httpx>=0.23.0->fastapi<1,>=0.95.2->langchain-chroma) (1.3.0)\n",
      "Requirement already satisfied: h11<0.15,>=0.13 in c:\\users\\asus\\appdata\\roaming\\python\\python311\\site-packages (from httpcore==1.*->httpx>=0.23.0->fastapi<1,>=0.95.2->langchain-chroma) (0.14.0)\n",
      "Requirement already satisfied: MarkupSafe>=2.0 in c:\\users\\asus\\miniconda3\\lib\\site-packages (from jinja2>=2.11.2->fastapi<1,>=0.95.2->langchain-chroma) (2.1.3)\n",
      "Requirement already satisfied: jsonpointer>=1.9 in c:\\users\\asus\\miniconda3\\lib\\site-packages (from jsonpatch<2.0,>=1.33->langchain-core<0.3,>=0.1.40->langchain-chroma) (2.1)\n",
      "Requirement already satisfied: six>=1.9.0 in c:\\users\\asus\\miniconda3\\lib\\site-packages (from kubernetes>=28.1.0->chromadb<0.6.0,>=0.4.0->langchain-chroma) (1.16.0)\n",
      "Requirement already satisfied: python-dateutil>=2.5.3 in c:\\users\\asus\\miniconda3\\lib\\site-packages (from kubernetes>=28.1.0->chromadb<0.6.0,>=0.4.0->langchain-chroma) (2.8.2)\n",
      "Requirement already satisfied: google-auth>=1.0.1 in c:\\users\\asus\\miniconda3\\lib\\site-packages (from kubernetes>=28.1.0->chromadb<0.6.0,>=0.4.0->langchain-chroma) (2.28.2)\n",
      "Requirement already satisfied: websocket-client!=0.40.0,!=0.41.*,!=0.42.*,>=0.32.0 in c:\\users\\asus\\miniconda3\\lib\\site-packages (from kubernetes>=28.1.0->chromadb<0.6.0,>=0.4.0->langchain-chroma) (0.58.0)\n",
      "Requirement already satisfied: requests-oauthlib in c:\\users\\asus\\miniconda3\\lib\\site-packages (from kubernetes>=28.1.0->chromadb<0.6.0,>=0.4.0->langchain-chroma) (1.4.0)\n",
      "Requirement already satisfied: oauthlib>=3.2.2 in c:\\users\\asus\\miniconda3\\lib\\site-packages (from kubernetes>=28.1.0->chromadb<0.6.0,>=0.4.0->langchain-chroma) (3.2.2)\n",
      "Requirement already satisfied: urllib3>=1.24.2 in c:\\users\\asus\\miniconda3\\lib\\site-packages (from kubernetes>=28.1.0->chromadb<0.6.0,>=0.4.0->langchain-chroma) (1.26.18)\n",
      "Requirement already satisfied: coloredlogs in c:\\users\\asus\\appdata\\roaming\\python\\python311\\site-packages (from onnxruntime>=1.14.1->chromadb<0.6.0,>=0.4.0->langchain-chroma) (15.0.1)\n",
      "Requirement already satisfied: flatbuffers in c:\\users\\asus\\miniconda3\\lib\\site-packages (from onnxruntime>=1.14.1->chromadb<0.6.0,>=0.4.0->langchain-chroma) (24.3.7)\n",
      "Requirement already satisfied: protobuf in c:\\users\\asus\\miniconda3\\lib\\site-packages (from onnxruntime>=1.14.1->chromadb<0.6.0,>=0.4.0->langchain-chroma) (4.21.12)\n",
      "Requirement already satisfied: sympy in c:\\users\\asus\\miniconda3\\lib\\site-packages (from onnxruntime>=1.14.1->chromadb<0.6.0,>=0.4.0->langchain-chroma) (1.12)\n",
      "Collecting deprecated>=1.2.6 (from opentelemetry-api>=1.2.0->chromadb<0.6.0,>=0.4.0->langchain-chroma)\n",
      "  Downloading Deprecated-1.2.14-py2.py3-none-any.whl.metadata (5.4 kB)\n",
      "Collecting importlib-metadata<=7.0,>=6.0 (from opentelemetry-api>=1.2.0->chromadb<0.6.0,>=0.4.0->langchain-chroma)\n",
      "  Downloading importlib_metadata-7.0.0-py3-none-any.whl.metadata (4.9 kB)\n",
      "Requirement already satisfied: googleapis-common-protos~=1.52 in c:\\users\\asus\\miniconda3\\lib\\site-packages (from opentelemetry-exporter-otlp-proto-grpc>=1.2.0->chromadb<0.6.0,>=0.4.0->langchain-chroma) (1.63.0)\n",
      "Collecting opentelemetry-exporter-otlp-proto-common==1.24.0 (from opentelemetry-exporter-otlp-proto-grpc>=1.2.0->chromadb<0.6.0,>=0.4.0->langchain-chroma)\n",
      "  Downloading opentelemetry_exporter_otlp_proto_common-1.24.0-py3-none-any.whl.metadata (1.7 kB)\n",
      "Collecting opentelemetry-proto==1.24.0 (from opentelemetry-exporter-otlp-proto-grpc>=1.2.0->chromadb<0.6.0,>=0.4.0->langchain-chroma)\n",
      "  Downloading opentelemetry_proto-1.24.0-py3-none-any.whl.metadata (2.2 kB)\n",
      "Collecting opentelemetry-instrumentation-asgi==0.45b0 (from opentelemetry-instrumentation-fastapi>=0.41b0->chromadb<0.6.0,>=0.4.0->langchain-chroma)\n",
      "  Downloading opentelemetry_instrumentation_asgi-0.45b0-py3-none-any.whl.metadata (1.9 kB)\n",
      "Collecting opentelemetry-instrumentation==0.45b0 (from opentelemetry-instrumentation-fastapi>=0.41b0->chromadb<0.6.0,>=0.4.0->langchain-chroma)\n",
      "  Downloading opentelemetry_instrumentation-0.45b0-py3-none-any.whl.metadata (6.1 kB)\n",
      "Collecting opentelemetry-semantic-conventions==0.45b0 (from opentelemetry-instrumentation-fastapi>=0.41b0->chromadb<0.6.0,>=0.4.0->langchain-chroma)\n",
      "  Downloading opentelemetry_semantic_conventions-0.45b0-py3-none-any.whl.metadata (2.2 kB)\n",
      "Collecting opentelemetry-util-http==0.45b0 (from opentelemetry-instrumentation-fastapi>=0.41b0->chromadb<0.6.0,>=0.4.0->langchain-chroma)\n",
      "  Downloading opentelemetry_util_http-0.45b0-py3-none-any.whl.metadata (2.4 kB)\n",
      "Requirement already satisfied: setuptools>=16.0 in c:\\users\\asus\\miniconda3\\lib\\site-packages (from opentelemetry-instrumentation==0.45b0->opentelemetry-instrumentation-fastapi>=0.41b0->chromadb<0.6.0,>=0.4.0->langchain-chroma) (68.2.2)\n",
      "Requirement already satisfied: wrapt<2.0.0,>=1.0.0 in c:\\users\\asus\\miniconda3\\lib\\site-packages (from opentelemetry-instrumentation==0.45b0->opentelemetry-instrumentation-fastapi>=0.41b0->chromadb<0.6.0,>=0.4.0->langchain-chroma) (1.16.0)\n",
      "Requirement already satisfied: asgiref~=3.0 in c:\\users\\asus\\miniconda3\\lib\\site-packages (from opentelemetry-instrumentation-asgi==0.45b0->opentelemetry-instrumentation-fastapi>=0.41b0->chromadb<0.6.0,>=0.4.0->langchain-chroma) (3.8.1)\n",
      "Collecting monotonic>=1.5 (from posthog>=2.4.0->chromadb<0.6.0,>=0.4.0->langchain-chroma)\n",
      "  Downloading monotonic-1.6-py2.py3-none-any.whl.metadata (1.5 kB)\n",
      "Collecting backoff>=1.10.0 (from posthog>=2.4.0->chromadb<0.6.0,>=0.4.0->langchain-chroma)\n",
      "  Downloading backoff-2.2.1-py3-none-any.whl.metadata (14 kB)\n",
      "Requirement already satisfied: annotated-types>=0.4.0 in c:\\users\\asus\\appdata\\roaming\\python\\python311\\site-packages (from pydantic>=1.9->chromadb<0.6.0,>=0.4.0->langchain-chroma) (0.6.0)\n",
      "Requirement already satisfied: pydantic-core==2.18.2 in c:\\users\\asus\\miniconda3\\lib\\site-packages (from pydantic>=1.9->chromadb<0.6.0,>=0.4.0->langchain-chroma) (2.18.2)\n",
      "Requirement already satisfied: charset-normalizer<4,>=2 in c:\\users\\asus\\miniconda3\\lib\\site-packages (from requests>=2.28->chromadb<0.6.0,>=0.4.0->langchain-chroma) (2.0.4)\n",
      "Requirement already satisfied: huggingface-hub<1.0,>=0.16.4 in c:\\users\\asus\\miniconda3\\lib\\site-packages (from tokenizers>=0.13.2->chromadb<0.6.0,>=0.4.0->langchain-chroma) (0.21.4)\n",
      "Requirement already satisfied: click>=8.0.0 in c:\\users\\asus\\miniconda3\\lib\\site-packages (from typer>=0.9.0->chromadb<0.6.0,>=0.4.0->langchain-chroma) (8.1.7)\n",
      "Requirement already satisfied: shellingham>=1.3.0 in c:\\users\\asus\\miniconda3\\lib\\site-packages (from typer>=0.9.0->chromadb<0.6.0,>=0.4.0->langchain-chroma) (1.5.4)\n",
      "Requirement already satisfied: rich>=10.11.0 in c:\\users\\asus\\miniconda3\\lib\\site-packages (from typer>=0.9.0->chromadb<0.6.0,>=0.4.0->langchain-chroma) (13.3.5)\n",
      "Requirement already satisfied: httptools>=0.5.0 in c:\\users\\asus\\appdata\\roaming\\python\\python311\\site-packages (from uvicorn[standard]>=0.18.3->chromadb<0.6.0,>=0.4.0->langchain-chroma) (0.6.1)\n",
      "Requirement already satisfied: python-dotenv>=0.13 in c:\\users\\asus\\miniconda3\\lib\\site-packages (from uvicorn[standard]>=0.18.3->chromadb<0.6.0,>=0.4.0->langchain-chroma) (1.0.1)\n",
      "Requirement already satisfied: watchfiles>=0.13 in c:\\users\\asus\\appdata\\roaming\\python\\python311\\site-packages (from uvicorn[standard]>=0.18.3->chromadb<0.6.0,>=0.4.0->langchain-chroma) (0.21.0)\n",
      "Requirement already satisfied: websockets>=10.4 in c:\\users\\asus\\miniconda3\\lib\\site-packages (from uvicorn[standard]>=0.18.3->chromadb<0.6.0,>=0.4.0->langchain-chroma) (10.4)\n",
      "Requirement already satisfied: cachetools<6.0,>=2.0.0 in c:\\users\\asus\\miniconda3\\lib\\site-packages (from google-auth>=1.0.1->kubernetes>=28.1.0->chromadb<0.6.0,>=0.4.0->langchain-chroma) (5.3.3)\n",
      "Requirement already satisfied: pyasn1-modules>=0.2.1 in c:\\users\\asus\\miniconda3\\lib\\site-packages (from google-auth>=1.0.1->kubernetes>=28.1.0->chromadb<0.6.0,>=0.4.0->langchain-chroma) (0.3.0)\n",
      "Requirement already satisfied: rsa<5,>=3.1.4 in c:\\users\\asus\\miniconda3\\lib\\site-packages (from google-auth>=1.0.1->kubernetes>=28.1.0->chromadb<0.6.0,>=0.4.0->langchain-chroma) (4.9)\n",
      "Requirement already satisfied: filelock in c:\\users\\asus\\miniconda3\\lib\\site-packages (from huggingface-hub<1.0,>=0.16.4->tokenizers>=0.13.2->chromadb<0.6.0,>=0.4.0->langchain-chroma) (3.13.1)\n",
      "Requirement already satisfied: fsspec>=2023.5.0 in c:\\users\\asus\\miniconda3\\lib\\site-packages (from huggingface-hub<1.0,>=0.16.4->tokenizers>=0.13.2->chromadb<0.6.0,>=0.4.0->langchain-chroma) (2024.3.1)\n",
      "Requirement already satisfied: zipp>=0.5 in c:\\users\\asus\\miniconda3\\lib\\site-packages (from importlib-metadata<=7.0,>=6.0->opentelemetry-api>=1.2.0->chromadb<0.6.0,>=0.4.0->langchain-chroma) (3.17.0)\n",
      "Requirement already satisfied: markdown-it-py<3.0.0,>=2.2.0 in c:\\users\\asus\\miniconda3\\lib\\site-packages (from rich>=10.11.0->typer>=0.9.0->chromadb<0.6.0,>=0.4.0->langchain-chroma) (2.2.0)\n",
      "Requirement already satisfied: pygments<3.0.0,>=2.13.0 in c:\\users\\asus\\miniconda3\\lib\\site-packages (from rich>=10.11.0->typer>=0.9.0->chromadb<0.6.0,>=0.4.0->langchain-chroma) (2.17.2)\n",
      "Requirement already satisfied: humanfriendly>=9.1 in c:\\users\\asus\\appdata\\roaming\\python\\python311\\site-packages (from coloredlogs->onnxruntime>=1.14.1->chromadb<0.6.0,>=0.4.0->langchain-chroma) (10.0)\n",
      "Requirement already satisfied: mpmath>=0.19 in c:\\users\\asus\\miniconda3\\lib\\site-packages (from sympy->onnxruntime>=1.14.1->chromadb<0.6.0,>=0.4.0->langchain-chroma) (1.3.0)\n",
      "Requirement already satisfied: pyreadline3 in c:\\users\\asus\\miniconda3\\lib\\site-packages (from humanfriendly>=9.1->coloredlogs->onnxruntime>=1.14.1->chromadb<0.6.0,>=0.4.0->langchain-chroma) (3.4.1)\n",
      "Requirement already satisfied: mdurl~=0.1 in c:\\users\\asus\\miniconda3\\lib\\site-packages (from markdown-it-py<3.0.0,>=2.2.0->rich>=10.11.0->typer>=0.9.0->chromadb<0.6.0,>=0.4.0->langchain-chroma) (0.1.0)\n",
      "Requirement already satisfied: pyasn1<0.6.0,>=0.4.6 in c:\\users\\asus\\miniconda3\\lib\\site-packages (from pyasn1-modules>=0.2.1->google-auth>=1.0.1->kubernetes>=28.1.0->chromadb<0.6.0,>=0.4.0->langchain-chroma) (0.5.1)\n",
      "Downloading langchain_chroma-0.1.1-py3-none-any.whl (8.5 kB)\n",
      "Downloading chromadb-0.5.0-py3-none-any.whl (526 kB)\n",
      "   ---------------------------------------- 0.0/526.8 kB ? eta -:--:--\n",
      "   ------ --------------------------------- 92.2/526.8 kB 1.7 MB/s eta 0:00:01\n",
      "   ------ --------------------------------- 92.2/526.8 kB 1.7 MB/s eta 0:00:01\n",
      "   -------- ------------------------------- 112.6/526.8 kB 1.1 MB/s eta 0:00:01\n",
      "   -------- ------------------------------- 112.6/526.8 kB 1.1 MB/s eta 0:00:01\n",
      "   --------------------------- ------------ 358.4/526.8 kB 1.7 MB/s eta 0:00:01\n",
      "   --------------------------- ------------ 368.6/526.8 kB 1.4 MB/s eta 0:00:01\n",
      "   ------------------------------- -------- 409.6/526.8 kB 1.3 MB/s eta 0:00:01\n",
      "   ------------------------------------- -- 491.5/526.8 kB 1.3 MB/s eta 0:00:01\n",
      "   ---------------------------------------- 526.8/526.8 kB 1.2 MB/s eta 0:00:00\n",
      "Downloading chroma_hnswlib-0.7.3-cp311-cp311-win_amd64.whl (151 kB)\n",
      "   ---------------------------------------- 0.0/151.6 kB ? eta -:--:--\n",
      "   -------------------------------- ------- 122.9/151.6 kB 3.5 MB/s eta 0:00:01\n",
      "   ---------------------------------------- 151.6/151.6 kB 1.8 MB/s eta 0:00:00\n",
      "Downloading bcrypt-4.1.3-cp39-abi3-win_amd64.whl (158 kB)\n",
      "   ---------------------------------------- 0.0/158.1 kB ? eta -:--:--\n",
      "   ---------- ----------------------------- 41.0/158.1 kB 1.9 MB/s eta 0:00:01\n",
      "   ---------- ----------------------------- 41.0/158.1 kB 1.9 MB/s eta 0:00:01\n",
      "   ---------- ----------------------------- 41.0/158.1 kB 1.9 MB/s eta 0:00:01\n",
      "   ---------------------- ---------------- 92.2/158.1 kB 655.4 kB/s eta 0:00:01\n",
      "   -------------------------------------- 158.1/158.1 kB 724.9 kB/s eta 0:00:00\n",
      "Downloading build-1.2.1-py3-none-any.whl (21 kB)\n",
      "Downloading kubernetes-29.0.0-py2.py3-none-any.whl (1.6 MB)\n",
      "   ---------------------------------------- 0.0/1.6 MB ? eta -:--:--\n",
      "   - -------------------------------------- 0.0/1.6 MB 991.0 kB/s eta 0:00:02\n",
      "   -- ------------------------------------- 0.1/1.6 MB 1.1 MB/s eta 0:00:02\n",
      "   --- ------------------------------------ 0.1/1.6 MB 1.1 MB/s eta 0:00:02\n",
      "   ---- ----------------------------------- 0.2/1.6 MB 1.1 MB/s eta 0:00:02\n",
      "   ---- ----------------------------------- 0.2/1.6 MB 1.1 MB/s eta 0:00:02\n",
      "   ---- ----------------------------------- 0.2/1.6 MB 1.1 MB/s eta 0:00:02\n",
      "   ------- -------------------------------- 0.3/1.6 MB 948.8 kB/s eta 0:00:02\n",
      "   --------- ------------------------------ 0.4/1.6 MB 995.6 kB/s eta 0:00:02\n",
      "   --------- ------------------------------ 0.4/1.6 MB 933.2 kB/s eta 0:00:02\n",
      "   ---------- ----------------------------- 0.4/1.6 MB 859.0 kB/s eta 0:00:02\n",
      "   ---------- ----------------------------- 0.4/1.6 MB 859.0 kB/s eta 0:00:02\n",
      "   ---------- ----------------------------- 0.4/1.6 MB 859.0 kB/s eta 0:00:02\n",
      "   ------------ --------------------------- 0.5/1.6 MB 814.9 kB/s eta 0:00:02\n",
      "   ------------ --------------------------- 0.5/1.6 MB 814.9 kB/s eta 0:00:02\n",
      "   -------------- ------------------------- 0.6/1.6 MB 803.7 kB/s eta 0:00:02\n",
      "   -------------- ------------------------- 0.6/1.6 MB 780.2 kB/s eta 0:00:02\n",
      "   -------------- ------------------------- 0.6/1.6 MB 778.2 kB/s eta 0:00:02\n",
      "   --------------- ------------------------ 0.6/1.6 MB 758.0 kB/s eta 0:00:02\n",
      "   ---------------- ----------------------- 0.7/1.6 MB 749.0 kB/s eta 0:00:02\n",
      "   ---------------- ----------------------- 0.7/1.6 MB 734.7 kB/s eta 0:00:02\n",
      "   ----------------- ---------------------- 0.7/1.6 MB 729.2 kB/s eta 0:00:02\n",
      "   ------------------ --------------------- 0.7/1.6 MB 716.8 kB/s eta 0:00:02\n",
      "   ------------------ --------------------- 0.8/1.6 MB 714.0 kB/s eta 0:00:02\n",
      "   -------------------- ------------------- 0.8/1.6 MB 710.3 kB/s eta 0:00:02\n",
      "   -------------------- ------------------- 0.8/1.6 MB 700.0 kB/s eta 0:00:02\n",
      "   --------------------- ------------------ 0.8/1.6 MB 698.2 kB/s eta 0:00:02\n",
      "   --------------------- ------------------ 0.9/1.6 MB 696.5 kB/s eta 0:00:02\n",
      "   ---------------------- ----------------- 0.9/1.6 MB 695.5 kB/s eta 0:00:01\n",
      "   ----------------------- ---------------- 0.9/1.6 MB 694.1 kB/s eta 0:00:01\n",
      "   ----------------------- ---------------- 0.9/1.6 MB 694.1 kB/s eta 0:00:01\n",
      "   ----------------------- ---------------- 0.9/1.6 MB 694.1 kB/s eta 0:00:01\n",
      "   ------------------------ --------------- 1.0/1.6 MB 662.5 kB/s eta 0:00:01\n",
      "   ------------------------- -------------- 1.0/1.6 MB 662.2 kB/s eta 0:00:01\n",
      "   -------------------------- ------------- 1.1/1.6 MB 661.9 kB/s eta 0:00:01\n",
      "   -------------------------- ------------- 1.1/1.6 MB 661.7 kB/s eta 0:00:01\n",
      "   --------------------------- ------------ 1.1/1.6 MB 655.2 kB/s eta 0:00:01\n",
      "   --------------------------- ------------ 1.1/1.6 MB 643.4 kB/s eta 0:00:01\n",
      "   ---------------------------- ----------- 1.1/1.6 MB 637.8 kB/s eta 0:00:01\n",
      "   ---------------------------- ----------- 1.1/1.6 MB 632.5 kB/s eta 0:00:01\n",
      "   ----------------------------- ---------- 1.2/1.6 MB 627.5 kB/s eta 0:00:01\n",
      "   ------------------------------ --------- 1.2/1.6 MB 623.2 kB/s eta 0:00:01\n",
      "   ------------------------------ --------- 1.2/1.6 MB 623.2 kB/s eta 0:00:01\n",
      "   ------------------------------ --------- 1.2/1.6 MB 613.9 kB/s eta 0:00:01\n",
      "   ------------------------------- -------- 1.2/1.6 MB 619.5 kB/s eta 0:00:01\n",
      "   ------------------------------- -------- 1.3/1.6 MB 605.6 kB/s eta 0:00:01\n",
      "   -------------------------------- ------- 1.3/1.6 MB 607.2 kB/s eta 0:00:01\n",
      "   -------------------------------- ------- 1.3/1.6 MB 598.7 kB/s eta 0:00:01\n",
      "   --------------------------------- ------ 1.3/1.6 MB 599.6 kB/s eta 0:00:01\n",
      "   --------------------------------- ------ 1.3/1.6 MB 599.6 kB/s eta 0:00:01\n",
      "   --------------------------------- ------ 1.3/1.6 MB 599.6 kB/s eta 0:00:01\n",
      "   ---------------------------------- ----- 1.4/1.6 MB 589.8 kB/s eta 0:00:01\n",
      "   ----------------------------------- ---- 1.4/1.6 MB 586.7 kB/s eta 0:00:01\n",
      "   ----------------------------------- ---- 1.4/1.6 MB 579.6 kB/s eta 0:00:01\n",
      "   ----------------------------------- ---- 1.4/1.6 MB 579.6 kB/s eta 0:00:01\n",
      "   ----------------------------------- ---- 1.4/1.6 MB 579.6 kB/s eta 0:00:01\n",
      "   ----------------------------------- ---- 1.4/1.6 MB 579.6 kB/s eta 0:00:01\n",
      "   ----------------------------------- ---- 1.4/1.6 MB 579.6 kB/s eta 0:00:01\n",
      "   ------------------------------------- -- 1.5/1.6 MB 552.4 kB/s eta 0:00:01\n",
      "   ------------------------------------- -- 1.5/1.6 MB 543.6 kB/s eta 0:00:01\n",
      "   ------------------------------------- -- 1.5/1.6 MB 543.6 kB/s eta 0:00:01\n",
      "   -------------------------------------- - 1.5/1.6 MB 538.8 kB/s eta 0:00:01\n",
      "   -------------------------------------- - 1.5/1.6 MB 531.3 kB/s eta 0:00:01\n",
      "   -------------------------------------- - 1.5/1.6 MB 531.3 kB/s eta 0:00:01\n",
      "   ---------------------------------------  1.6/1.6 MB 520.8 kB/s eta 0:00:01\n",
      "   ---------------------------------------  1.6/1.6 MB 519.5 kB/s eta 0:00:01\n",
      "   ---------------------------------------  1.6/1.6 MB 519.5 kB/s eta 0:00:01\n",
      "   ---------------------------------------- 1.6/1.6 MB 512.5 kB/s eta 0:00:00\n",
      "Downloading mmh3-4.1.0-cp311-cp311-win_amd64.whl (31 kB)\n",
      "Downloading opentelemetry_api-1.24.0-py3-none-any.whl (60 kB)\n",
      "   ---------------------------------------- 0.0/60.1 kB ? eta -:--:--\n",
      "   ---------------------------------------- 0.0/60.1 kB ? eta -:--:--\n",
      "   ------ --------------------------------- 10.2/60.1 kB ? eta -:--:--\n",
      "   -------------------- ------------------- 30.7/60.1 kB 262.6 kB/s eta 0:00:01\n",
      "   --------------------------- ------------ 41.0/60.1 kB 245.8 kB/s eta 0:00:01\n",
      "   ---------------------------------------- 60.1/60.1 kB 289.8 kB/s eta 0:00:00\n",
      "Downloading opentelemetry_exporter_otlp_proto_grpc-1.24.0-py3-none-any.whl (18 kB)\n",
      "Downloading opentelemetry_exporter_otlp_proto_common-1.24.0-py3-none-any.whl (17 kB)\n",
      "Downloading opentelemetry_proto-1.24.0-py3-none-any.whl (50 kB)\n",
      "   ---------------------------------------- 0.0/50.8 kB ? eta -:--:--\n",
      "   ---------------------------------------- 0.0/50.8 kB ? eta -:--:--\n",
      "   -------- ------------------------------- 10.2/50.8 kB ? eta -:--:--\n",
      "   -------- ------------------------------- 10.2/50.8 kB ? eta -:--:--\n",
      "   -------- ------------------------------- 10.2/50.8 kB ? eta -:--:--\n",
      "   ---------------- ----------------------- 20.5/50.8 kB 54.8 kB/s eta 0:00:01\n",
      "   ---------------------------------------- 50.8/50.8 kB 216.7 kB/s eta 0:00:00\n",
      "Downloading opentelemetry_instrumentation_fastapi-0.45b0-py3-none-any.whl (11 kB)\n",
      "Downloading opentelemetry_instrumentation-0.45b0-py3-none-any.whl (28 kB)\n",
      "Downloading opentelemetry_instrumentation_asgi-0.45b0-py3-none-any.whl (14 kB)\n",
      "Downloading opentelemetry_semantic_conventions-0.45b0-py3-none-any.whl (36 kB)\n",
      "Downloading opentelemetry_util_http-0.45b0-py3-none-any.whl (6.9 kB)\n",
      "Downloading opentelemetry_sdk-1.24.0-py3-none-any.whl (106 kB)\n",
      "   ---------------------------------------- 0.0/106.1 kB ? eta -:--:--\n",
      "   ---------------------------------------- 0.0/106.1 kB ? eta -:--:--\n",
      "   --- ------------------------------------ 10.2/106.1 kB ? eta -:--:--\n",
      "   ----------- --------------------------- 30.7/106.1 kB 325.1 kB/s eta 0:00:01\n",
      "   --------------- ----------------------- 41.0/106.1 kB 245.8 kB/s eta 0:00:01\n",
      "   --------------- ----------------------- 41.0/106.1 kB 245.8 kB/s eta 0:00:01\n",
      "   ---------------------- ---------------- 61.4/106.1 kB 272.3 kB/s eta 0:00:01\n",
      "   ------------------------------ -------- 81.9/106.1 kB 269.5 kB/s eta 0:00:01\n",
      "   --------------------------------- ----- 92.2/106.1 kB 261.7 kB/s eta 0:00:01\n",
      "   -------------------------------------- 106.1/106.1 kB 278.8 kB/s eta 0:00:00\n",
      "Downloading posthog-3.5.0-py2.py3-none-any.whl (41 kB)\n",
      "   ---------------------------------------- 0.0/41.3 kB ? eta -:--:--\n",
      "   ---------------------------------------- 0.0/41.3 kB ? eta -:--:--\n",
      "   --------- ------------------------------ 10.2/41.3 kB ? eta -:--:--\n",
      "   ----------------------------- ---------- 30.7/41.3 kB 325.1 kB/s eta 0:00:01\n",
      "   ---------------------------------------- 41.3/41.3 kB 330.4 kB/s eta 0:00:00\n",
      "Downloading tenacity-8.3.0-py3-none-any.whl (25 kB)\n",
      "Downloading backoff-2.2.1-py3-none-any.whl (15 kB)\n",
      "Downloading Deprecated-1.2.14-py2.py3-none-any.whl (9.6 kB)\n",
      "Downloading importlib_metadata-7.0.0-py3-none-any.whl (23 kB)\n",
      "Downloading monotonic-1.6-py2.py3-none-any.whl (8.2 kB)\n",
      "Downloading pyproject_hooks-1.1.0-py3-none-any.whl (9.2 kB)\n",
      "Building wheels for collected packages: pypika\n",
      "  Building wheel for pypika (pyproject.toml): started\n",
      "  Building wheel for pypika (pyproject.toml): finished with status 'done'\n",
      "  Created wheel for pypika: filename=PyPika-0.48.9-py2.py3-none-any.whl size=53835 sha256=90a4fe85d708e60a9a50d3b1c2068d130a2476dd6757a1e91da048fdd13aa235\n",
      "  Stored in directory: c:\\users\\asus\\appdata\\local\\pip\\cache\\wheels\\a3\\01\\bd\\4c40ceb9d5354160cb186dcc153360f4ab7eb23e2b24daf96d\n",
      "Successfully built pypika\n",
      "Installing collected packages: pypika, monotonic, mmh3, tenacity, pyproject_hooks, opentelemetry-util-http, opentelemetry-semantic-conventions, opentelemetry-proto, importlib-metadata, deprecated, chroma-hnswlib, bcrypt, backoff, posthog, opentelemetry-exporter-otlp-proto-common, opentelemetry-api, build, opentelemetry-sdk, opentelemetry-instrumentation, kubernetes, opentelemetry-instrumentation-asgi, opentelemetry-exporter-otlp-proto-grpc, opentelemetry-instrumentation-fastapi, chromadb, langchain-chroma\n",
      "  Attempting uninstall: tenacity\n",
      "    Found existing installation: tenacity 8.2.2\n",
      "    Uninstalling tenacity-8.2.2:\n",
      "      Successfully uninstalled tenacity-8.2.2\n",
      "  Attempting uninstall: importlib-metadata\n",
      "    Found existing installation: importlib_metadata 7.0.2\n",
      "    Uninstalling importlib_metadata-7.0.2:\n",
      "      Successfully uninstalled importlib_metadata-7.0.2\n",
      "Successfully installed backoff-2.2.1 bcrypt-4.1.3 build-1.2.1 chroma-hnswlib-0.7.3 chromadb-0.5.0 deprecated-1.2.14 importlib-metadata-7.0.0 kubernetes-29.0.0 langchain-chroma-0.1.1 mmh3-4.1.0 monotonic-1.6 opentelemetry-api-1.24.0 opentelemetry-exporter-otlp-proto-common-1.24.0 opentelemetry-exporter-otlp-proto-grpc-1.24.0 opentelemetry-instrumentation-0.45b0 opentelemetry-instrumentation-asgi-0.45b0 opentelemetry-instrumentation-fastapi-0.45b0 opentelemetry-proto-1.24.0 opentelemetry-sdk-1.24.0 opentelemetry-semantic-conventions-0.45b0 opentelemetry-util-http-0.45b0 posthog-3.5.0 pypika-0.48.9 pyproject_hooks-1.1.0 tenacity-8.3.0\n",
      "Requirement already satisfied: langchain in c:\\users\\asus\\miniconda3\\lib\\site-packages (0.1.20)\n",
      "Requirement already satisfied: PyYAML>=5.3 in c:\\users\\asus\\miniconda3\\lib\\site-packages (from langchain) (6.0.1)\n",
      "Requirement already satisfied: SQLAlchemy<3,>=1.4 in c:\\users\\asus\\miniconda3\\lib\\site-packages (from langchain) (2.0.25)\n",
      "Requirement already satisfied: aiohttp<4.0.0,>=3.8.3 in c:\\users\\asus\\miniconda3\\lib\\site-packages (from langchain) (3.9.3)\n",
      "Requirement already satisfied: dataclasses-json<0.7,>=0.5.7 in c:\\users\\asus\\miniconda3\\lib\\site-packages (from langchain) (0.6.5)\n",
      "Requirement already satisfied: langchain-community<0.1,>=0.0.38 in c:\\users\\asus\\miniconda3\\lib\\site-packages (from langchain) (0.0.38)\n",
      "Requirement already satisfied: langchain-core<0.2.0,>=0.1.52 in c:\\users\\asus\\miniconda3\\lib\\site-packages (from langchain) (0.1.52)\n",
      "Requirement already satisfied: langchain-text-splitters<0.1,>=0.0.1 in c:\\users\\asus\\miniconda3\\lib\\site-packages (from langchain) (0.0.2)\n",
      "Requirement already satisfied: langsmith<0.2.0,>=0.1.17 in c:\\users\\asus\\miniconda3\\lib\\site-packages (from langchain) (0.1.63)\n",
      "Requirement already satisfied: numpy<2,>=1 in c:\\users\\asus\\miniconda3\\lib\\site-packages (from langchain) (1.24.3)\n",
      "Requirement already satisfied: pydantic<3,>=1 in c:\\users\\asus\\appdata\\roaming\\python\\python311\\site-packages (from langchain) (2.7.1)\n",
      "Requirement already satisfied: requests<3,>=2 in c:\\users\\asus\\miniconda3\\lib\\site-packages (from langchain) (2.31.0)\n",
      "Requirement already satisfied: tenacity<9.0.0,>=8.1.0 in c:\\users\\asus\\miniconda3\\lib\\site-packages (from langchain) (8.3.0)\n",
      "Requirement already satisfied: aiosignal>=1.1.2 in c:\\users\\asus\\miniconda3\\lib\\site-packages (from aiohttp<4.0.0,>=3.8.3->langchain) (1.2.0)\n",
      "Requirement already satisfied: attrs>=17.3.0 in c:\\users\\asus\\miniconda3\\lib\\site-packages (from aiohttp<4.0.0,>=3.8.3->langchain) (23.1.0)\n",
      "Requirement already satisfied: frozenlist>=1.1.1 in c:\\users\\asus\\miniconda3\\lib\\site-packages (from aiohttp<4.0.0,>=3.8.3->langchain) (1.4.0)\n",
      "Requirement already satisfied: multidict<7.0,>=4.5 in c:\\users\\asus\\miniconda3\\lib\\site-packages (from aiohttp<4.0.0,>=3.8.3->langchain) (6.0.4)\n",
      "Requirement already satisfied: yarl<2.0,>=1.0 in c:\\users\\asus\\miniconda3\\lib\\site-packages (from aiohttp<4.0.0,>=3.8.3->langchain) (1.9.3)\n",
      "Requirement already satisfied: marshmallow<4.0.0,>=3.18.0 in c:\\users\\asus\\miniconda3\\lib\\site-packages (from dataclasses-json<0.7,>=0.5.7->langchain) (3.19.0)\n",
      "Requirement already satisfied: typing-inspect<1,>=0.4.0 in c:\\users\\asus\\miniconda3\\lib\\site-packages (from dataclasses-json<0.7,>=0.5.7->langchain) (0.9.0)\n",
      "Requirement already satisfied: jsonpatch<2.0,>=1.33 in c:\\users\\asus\\miniconda3\\lib\\site-packages (from langchain-core<0.2.0,>=0.1.52->langchain) (1.33)\n",
      "Requirement already satisfied: packaging<24.0,>=23.2 in c:\\users\\asus\\miniconda3\\lib\\site-packages (from langchain-core<0.2.0,>=0.1.52->langchain) (23.2)\n",
      "Requirement already satisfied: orjson<4.0.0,>=3.9.14 in c:\\users\\asus\\miniconda3\\lib\\site-packages (from langsmith<0.2.0,>=0.1.17->langchain) (3.10.0)\n",
      "Requirement already satisfied: annotated-types>=0.4.0 in c:\\users\\asus\\appdata\\roaming\\python\\python311\\site-packages (from pydantic<3,>=1->langchain) (0.6.0)\n",
      "Requirement already satisfied: pydantic-core==2.18.2 in c:\\users\\asus\\miniconda3\\lib\\site-packages (from pydantic<3,>=1->langchain) (2.18.2)\n",
      "Requirement already satisfied: typing-extensions>=4.6.1 in c:\\users\\asus\\miniconda3\\lib\\site-packages (from pydantic<3,>=1->langchain) (4.10.0)\n",
      "Requirement already satisfied: charset-normalizer<4,>=2 in c:\\users\\asus\\miniconda3\\lib\\site-packages (from requests<3,>=2->langchain) (2.0.4)\n",
      "Requirement already satisfied: idna<4,>=2.5 in c:\\users\\asus\\miniconda3\\lib\\site-packages (from requests<3,>=2->langchain) (3.4)\n",
      "Requirement already satisfied: urllib3<3,>=1.21.1 in c:\\users\\asus\\miniconda3\\lib\\site-packages (from requests<3,>=2->langchain) (1.26.18)\n",
      "Requirement already satisfied: certifi>=2017.4.17 in c:\\users\\asus\\miniconda3\\lib\\site-packages (from requests<3,>=2->langchain) (2024.2.2)\n",
      "Requirement already satisfied: greenlet!=0.4.17 in c:\\users\\asus\\miniconda3\\lib\\site-packages (from SQLAlchemy<3,>=1.4->langchain) (3.0.1)\n",
      "Requirement already satisfied: jsonpointer>=1.9 in c:\\users\\asus\\miniconda3\\lib\\site-packages (from jsonpatch<2.0,>=1.33->langchain-core<0.2.0,>=0.1.52->langchain) (2.1)\n",
      "Requirement already satisfied: mypy-extensions>=0.3.0 in c:\\users\\asus\\miniconda3\\lib\\site-packages (from typing-inspect<1,>=0.4.0->dataclasses-json<0.7,>=0.5.7->langchain) (1.0.0)\n",
      "Requirement already satisfied: langchain_community in c:\\users\\asus\\miniconda3\\lib\\site-packages (0.0.38)\n",
      "Requirement already satisfied: PyYAML>=5.3 in c:\\users\\asus\\miniconda3\\lib\\site-packages (from langchain_community) (6.0.1)\n",
      "Requirement already satisfied: SQLAlchemy<3,>=1.4 in c:\\users\\asus\\miniconda3\\lib\\site-packages (from langchain_community) (2.0.25)\n",
      "Requirement already satisfied: aiohttp<4.0.0,>=3.8.3 in c:\\users\\asus\\miniconda3\\lib\\site-packages (from langchain_community) (3.9.3)\n",
      "Requirement already satisfied: dataclasses-json<0.7,>=0.5.7 in c:\\users\\asus\\miniconda3\\lib\\site-packages (from langchain_community) (0.6.5)\n",
      "Requirement already satisfied: langchain-core<0.2.0,>=0.1.52 in c:\\users\\asus\\miniconda3\\lib\\site-packages (from langchain_community) (0.1.52)\n",
      "Requirement already satisfied: langsmith<0.2.0,>=0.1.0 in c:\\users\\asus\\miniconda3\\lib\\site-packages (from langchain_community) (0.1.63)\n",
      "Requirement already satisfied: numpy<2,>=1 in c:\\users\\asus\\miniconda3\\lib\\site-packages (from langchain_community) (1.24.3)\n",
      "Requirement already satisfied: requests<3,>=2 in c:\\users\\asus\\miniconda3\\lib\\site-packages (from langchain_community) (2.31.0)\n",
      "Requirement already satisfied: tenacity<9.0.0,>=8.1.0 in c:\\users\\asus\\miniconda3\\lib\\site-packages (from langchain_community) (8.3.0)\n",
      "Requirement already satisfied: aiosignal>=1.1.2 in c:\\users\\asus\\miniconda3\\lib\\site-packages (from aiohttp<4.0.0,>=3.8.3->langchain_community) (1.2.0)\n",
      "Requirement already satisfied: attrs>=17.3.0 in c:\\users\\asus\\miniconda3\\lib\\site-packages (from aiohttp<4.0.0,>=3.8.3->langchain_community) (23.1.0)\n",
      "Requirement already satisfied: frozenlist>=1.1.1 in c:\\users\\asus\\miniconda3\\lib\\site-packages (from aiohttp<4.0.0,>=3.8.3->langchain_community) (1.4.0)\n",
      "Requirement already satisfied: multidict<7.0,>=4.5 in c:\\users\\asus\\miniconda3\\lib\\site-packages (from aiohttp<4.0.0,>=3.8.3->langchain_community) (6.0.4)\n",
      "Requirement already satisfied: yarl<2.0,>=1.0 in c:\\users\\asus\\miniconda3\\lib\\site-packages (from aiohttp<4.0.0,>=3.8.3->langchain_community) (1.9.3)\n",
      "Requirement already satisfied: marshmallow<4.0.0,>=3.18.0 in c:\\users\\asus\\miniconda3\\lib\\site-packages (from dataclasses-json<0.7,>=0.5.7->langchain_community) (3.19.0)\n",
      "Requirement already satisfied: typing-inspect<1,>=0.4.0 in c:\\users\\asus\\miniconda3\\lib\\site-packages (from dataclasses-json<0.7,>=0.5.7->langchain_community) (0.9.0)\n",
      "Requirement already satisfied: jsonpatch<2.0,>=1.33 in c:\\users\\asus\\miniconda3\\lib\\site-packages (from langchain-core<0.2.0,>=0.1.52->langchain_community) (1.33)\n",
      "Requirement already satisfied: packaging<24.0,>=23.2 in c:\\users\\asus\\miniconda3\\lib\\site-packages (from langchain-core<0.2.0,>=0.1.52->langchain_community) (23.2)\n",
      "Requirement already satisfied: pydantic<3,>=1 in c:\\users\\asus\\appdata\\roaming\\python\\python311\\site-packages (from langchain-core<0.2.0,>=0.1.52->langchain_community) (2.7.1)\n",
      "Requirement already satisfied: orjson<4.0.0,>=3.9.14 in c:\\users\\asus\\miniconda3\\lib\\site-packages (from langsmith<0.2.0,>=0.1.0->langchain_community) (3.10.0)\n",
      "Requirement already satisfied: charset-normalizer<4,>=2 in c:\\users\\asus\\miniconda3\\lib\\site-packages (from requests<3,>=2->langchain_community) (2.0.4)\n",
      "Requirement already satisfied: idna<4,>=2.5 in c:\\users\\asus\\miniconda3\\lib\\site-packages (from requests<3,>=2->langchain_community) (3.4)\n",
      "Requirement already satisfied: urllib3<3,>=1.21.1 in c:\\users\\asus\\miniconda3\\lib\\site-packages (from requests<3,>=2->langchain_community) (1.26.18)\n",
      "Requirement already satisfied: certifi>=2017.4.17 in c:\\users\\asus\\miniconda3\\lib\\site-packages (from requests<3,>=2->langchain_community) (2024.2.2)\n",
      "Requirement already satisfied: typing-extensions>=4.6.0 in c:\\users\\asus\\miniconda3\\lib\\site-packages (from SQLAlchemy<3,>=1.4->langchain_community) (4.10.0)\n",
      "Requirement already satisfied: greenlet!=0.4.17 in c:\\users\\asus\\miniconda3\\lib\\site-packages (from SQLAlchemy<3,>=1.4->langchain_community) (3.0.1)\n",
      "Requirement already satisfied: jsonpointer>=1.9 in c:\\users\\asus\\miniconda3\\lib\\site-packages (from jsonpatch<2.0,>=1.33->langchain-core<0.2.0,>=0.1.52->langchain_community) (2.1)\n",
      "Requirement already satisfied: annotated-types>=0.4.0 in c:\\users\\asus\\appdata\\roaming\\python\\python311\\site-packages (from pydantic<3,>=1->langchain-core<0.2.0,>=0.1.52->langchain_community) (0.6.0)\n",
      "Requirement already satisfied: pydantic-core==2.18.2 in c:\\users\\asus\\miniconda3\\lib\\site-packages (from pydantic<3,>=1->langchain-core<0.2.0,>=0.1.52->langchain_community) (2.18.2)\n",
      "Requirement already satisfied: mypy-extensions>=0.3.0 in c:\\users\\asus\\miniconda3\\lib\\site-packages (from typing-inspect<1,>=0.4.0->dataclasses-json<0.7,>=0.5.7->langchain_community) (1.0.0)\n",
      "Collecting langchainhub\n",
      "  Downloading langchainhub-0.1.17-py3-none-any.whl.metadata (621 bytes)\n",
      "Requirement already satisfied: requests<3,>=2 in c:\\users\\asus\\miniconda3\\lib\\site-packages (from langchainhub) (2.31.0)\n",
      "Collecting types-requests<3.0.0.0,>=2.31.0.2 (from langchainhub)\n",
      "  Downloading types_requests-2.32.0.20240523-py3-none-any.whl.metadata (1.8 kB)\n",
      "Requirement already satisfied: charset-normalizer<4,>=2 in c:\\users\\asus\\miniconda3\\lib\\site-packages (from requests<3,>=2->langchainhub) (2.0.4)\n",
      "Requirement already satisfied: idna<4,>=2.5 in c:\\users\\asus\\miniconda3\\lib\\site-packages (from requests<3,>=2->langchainhub) (3.4)\n",
      "Requirement already satisfied: urllib3<3,>=1.21.1 in c:\\users\\asus\\miniconda3\\lib\\site-packages (from requests<3,>=2->langchainhub) (1.26.18)\n",
      "Requirement already satisfied: certifi>=2017.4.17 in c:\\users\\asus\\miniconda3\\lib\\site-packages (from requests<3,>=2->langchainhub) (2024.2.2)\n",
      "Collecting urllib3<3,>=1.21.1 (from requests<3,>=2->langchainhub)\n",
      "  Using cached urllib3-2.2.1-py3-none-any.whl.metadata (6.4 kB)\n",
      "Downloading langchainhub-0.1.17-py3-none-any.whl (4.8 kB)\n",
      "Downloading types_requests-2.32.0.20240523-py3-none-any.whl (15 kB)\n",
      "Using cached urllib3-2.2.1-py3-none-any.whl (121 kB)\n",
      "Installing collected packages: urllib3, types-requests, langchainhub\n",
      "  Attempting uninstall: urllib3\n",
      "    Found existing installation: urllib3 1.26.18\n",
      "    Uninstalling urllib3-1.26.18:\n",
      "      Successfully uninstalled urllib3-1.26.18\n",
      "Successfully installed langchainhub-0.1.17 types-requests-2.32.0.20240523 urllib3-2.2.1\n"
     ]
    },
    {
     "name": "stderr",
     "output_type": "stream",
     "text": [
      "ERROR: pip's dependency resolver does not currently take into account all the packages that are installed. This behaviour is the source of the following dependency conflicts.\n",
      "langchain 0.1.20 requires langchain-core<0.2.0,>=0.1.52, but you have langchain-core 0.2.2 which is incompatible.\n",
      "langchain-community 0.0.38 requires langchain-core<0.2.0,>=0.1.52, but you have langchain-core 0.2.2 which is incompatible.\n"
     ]
    }
   ],
   "source": [
    "!pip install langchain-chroma\n",
    "!pip install langchain\n",
    "!pip install langchain_community\n",
    "!pip install langchainhub\n",
    "!pip install -qU langchain-openai"
   ]
  },
  {
   "cell_type": "code",
   "execution_count": 1,
   "metadata": {},
   "outputs": [],
   "source": [
    "import os\n",
    "\n",
    "os.environ[\"OPENAI_API_KEY\"] = \"Your_OPENAI_API_KEY\""
   ]
  },
  {
   "cell_type": "markdown",
   "metadata": {},
   "source": [
    "# 1. Get a Data Loader"
   ]
  },
  {
   "cell_type": "code",
   "execution_count": 2,
   "metadata": {},
   "outputs": [],
   "source": [
    "from langchain.document_loaders import DirectoryLoader"
   ]
  },
  {
   "cell_type": "code",
   "execution_count": 4,
   "metadata": {},
   "outputs": [
    {
     "name": "stdout",
     "output_type": "stream",
     "text": [
      "2\n"
     ]
    },
    {
     "ename": "",
     "evalue": "",
     "output_type": "error",
     "traceback": [
      "\u001b[1;31mThe Kernel crashed while executing code in the current cell or a previous cell. \n",
      "\u001b[1;31mPlease review the code in the cell(s) to identify a possible cause of the failure. \n",
      "\u001b[1;31mClick <a href='https://aka.ms/vscodeJupyterKernelCrash'>here</a> for more info. \n",
      "\u001b[1;31mView Jupyter <a href='command:jupyter.viewOutput'>log</a> for further details."
     ]
    }
   ],
   "source": [
    "pwd=os.getcwd()\n",
    "loader=DirectoryLoader(path=pwd,glob=\"t_data/*.csv\",use_multithreading=True)\n",
    "docs=loader.load()\n",
    "print(len(docs))"
   ]
  },
  {
   "cell_type": "markdown",
   "metadata": {},
   "source": [
    "# 2. Convert data to Vector Database\n"
   ]
  },
  {
   "cell_type": "code",
   "execution_count": 13,
   "metadata": {},
   "outputs": [],
   "source": [
    "\n",
    "from langchain.vectorstores import Chroma\n",
    "from langchain_openai import OpenAIEmbeddings\n"
   ]
  },
  {
   "cell_type": "code",
   "execution_count": 22,
   "metadata": {},
   "outputs": [
    {
     "data": {
      "text/plain": [
       "<langchain_community.vectorstores.chroma.Chroma at 0x265e8ea4310>"
      ]
     },
     "execution_count": 22,
     "metadata": {},
     "output_type": "execute_result"
    }
   ],
   "source": [
    "Chroma.from_documents(documents=docs, embedding=OpenAIEmbeddings(model=\"text-embedding-3-large\"), persist_directory=\"./chroma_db\")"
   ]
  },
  {
   "cell_type": "code",
   "execution_count": 26,
   "metadata": {},
   "outputs": [],
   "source": [
    "from langchain.text_splitter import RecursiveCharacterTextSplitter\n",
    "\n",
    "text_splitter = RecursiveCharacterTextSplitter(chunk_size=1000, chunk_overlap=0)\n",
    "split_docs = text_splitter.split_documents(docs)"
   ]
  },
  {
   "cell_type": "code",
   "execution_count": 27,
   "metadata": {},
   "outputs": [
    {
     "name": "stdout",
     "output_type": "stream",
     "text": [
      "Now you have 268 documents\n"
     ]
    }
   ],
   "source": [
    "print (f'Now you have {len(split_docs)} documents')"
   ]
  },
  {
   "cell_type": "code",
   "execution_count": 28,
   "metadata": {},
   "outputs": [
    {
     "data": {
      "text/plain": [
       "<langchain_community.vectorstores.chroma.Chroma at 0x265fe8544d0>"
      ]
     },
     "execution_count": 28,
     "metadata": {},
     "output_type": "execute_result"
    }
   ],
   "source": [
    "Chroma.from_documents(documents=split_docs, embedding=OpenAIEmbeddings(model=\"text-embedding-3-large\"), persist_directory=\"./chroma_db\")"
   ]
  },
  {
   "cell_type": "markdown",
   "metadata": {},
   "source": [
    "# 3. Make a RAG pipeline\n"
   ]
  },
  {
   "cell_type": "code",
   "execution_count": 29,
   "metadata": {},
   "outputs": [],
   "source": [
    "from langchain_openai import ChatOpenAI\n",
    "from langchain_core.output_parsers import StrOutputParser\n",
    "from langchain_core.prompts import ChatPromptTemplate\n",
    "from langchain.chains import RetrievalQA\n",
    "from langchain import hub"
   ]
  },
  {
   "cell_type": "code",
   "execution_count": 30,
   "metadata": {},
   "outputs": [],
   "source": [
    "llm = ChatOpenAI(model=\"gpt-4o\")\n",
    "prompt = hub.pull(\"rlm/rag-prompt\")\n",
    "vectorstore = Chroma(persist_directory=\"./chroma_db\", embedding_function=OpenAIEmbeddings(model=\"text-embedding-3-large\"))"
   ]
  },
  {
   "cell_type": "code",
   "execution_count": 31,
   "metadata": {},
   "outputs": [],
   "source": [
    "qa_chain = RetrievalQA.from_chain_type(\n",
    "        llm,\n",
    "        retriever=vectorstore.as_retriever(),\n",
    "        chain_type_kwargs={\"prompt\": prompt}\n",
    "    )"
   ]
  },
  {
   "cell_type": "markdown",
   "metadata": {},
   "source": [
    "## test"
   ]
  },
  {
   "cell_type": "code",
   "execution_count": 32,
   "metadata": {},
   "outputs": [],
   "source": [
    "question = \"請推薦我一個台南的最棒民宿，並告訴我價格還有聯絡資料及地址\"\n",
    "result = qa_chain({\"query\": question })"
   ]
  },
  {
   "cell_type": "code",
   "execution_count": 33,
   "metadata": {},
   "outputs": [
    {
     "data": {
      "text/plain": [
       "{'query': '請推薦我一個台南的最棒民宿，並告訴我價格還有聯絡資料及地址',\n",
       " 'result': '推薦您「長長99」，這是位於台南東區的獨棟老屋民宿，地址是臺南市東區長榮路二段32巷99號，價格範圍為2000至2800新台幣。聯絡電話是886-933-666272。'}"
      ]
     },
     "execution_count": 33,
     "metadata": {},
     "output_type": "execute_result"
    }
   ],
   "source": [
    "result"
   ]
  },
  {
   "cell_type": "markdown",
   "metadata": {},
   "source": [
    "# pandas ai"
   ]
  },
  {
   "cell_type": "code",
   "execution_count": null,
   "metadata": {},
   "outputs": [],
   "source": [
    "# 確認 'Region' 欄位中沒有缺失值\n",
    "allspot_data_clean = allspot_data.dropna(subset=['Region'])\n",
    "\n",
    "# 計算每個 Region 的資料筆數\n",
    "region_counts = allspot_data_clean['Region'].value_counts()\n",
    "\n",
    "# 顯示結果\n",
    "print(region_counts)"
   ]
  },
  {
   "cell_type": "markdown",
   "metadata": {},
   "source": []
  }
 ],
 "metadata": {
  "kernelspec": {
   "display_name": "base",
   "language": "python",
   "name": "python3"
  },
  "language_info": {
   "codemirror_mode": {
    "name": "ipython",
    "version": 3
   },
   "file_extension": ".py",
   "mimetype": "text/x-python",
   "name": "python",
   "nbconvert_exporter": "python",
   "pygments_lexer": "ipython3",
   "version": "3.11.5"
  }
 },
 "nbformat": 4,
 "nbformat_minor": 2
}
